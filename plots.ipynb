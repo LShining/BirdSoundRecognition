{
 "cells": [
  {
   "cell_type": "code",
   "execution_count": 28,
   "metadata": {
    "collapsed": false
   },
   "outputs": [],
   "source": [
    "import matplotlib.pyplot as plt\n",
    "import numpy as np\n",
    "#code used for the quantile figure\n",
    "\n",
    "t = np.arange(0.0, 1.0, 0.01)\n",
    "s = np.sin(np.pi*t)\n",
    "plt.plot(t,s)\n",
    "\n",
    "plt.xlabel('Frequency')\n",
    "plt.ylabel('Amplitude')\n",
    "plt.title('The 20%,40%,60%,80% quantiles of a peak')\n",
    "plt.grid(True)\n",
    "plt.savefig(\"test.png\")\n",
    "plt.ylim(0,1.2)\n",
    "plt.plot([0.5,0.5],[0,1],'rx-')\n",
    "plt.plot([0.295,0.295],[0,0.8],'rx-')\n",
    "plt.plot([0.705,0.705],[0,0.8],'rx-')\n",
    "plt.plot([0.205,0.205],[0,0.6],'rx-')\n",
    "plt.plot([0.795,0.795],[0,0.6],'rx-')\n",
    "plt.plot([0.131,0.131],[0,0.4],'rx-')\n",
    "plt.plot([0.869,0.869],[0,0.4],'rx-')\n",
    "plt.plot([0.936,0.936],[0,0.2],'rx-')\n",
    "plt.plot([0.064,0.064],[0,0.2],'rx-')\n",
    "plt.show()"
   ]
  },
  {
   "cell_type": "code",
   "execution_count": 52,
   "metadata": {
    "collapsed": false
   },
   "outputs": [],
   "source": [
    "import matplotlib.pyplot as plt\n",
    "import numpy as np\n",
    "#code used for the multi-peaks figure\n",
    "\n",
    "def fun(t):\n",
    "    p=t/10\n",
    "    return -p*(p-1)*(p-2)*(p-4)+1.2\n",
    "t = np.arange(0.0, 100.0, 2)\n",
    "s = [fun(p) for p in t]\n",
    "plt.plot(t,s)\n",
    "\n",
    "plt.xlabel('Frequency')\n",
    "plt.ylabel('Amplitude')\n",
    "plt.title('Multi-peaks and their rough shapes')\n",
    "plt.grid(True)\n",
    "plt.savefig(\"test.png\")\n",
    "plt.show()\n",
    "plt.ylim(0,10)\n",
    "plt.xlim(0,50)\n",
    "for i in [2,4,6,32,34,36]:\n",
    "    plt.plot([0,i],[fun(i),fun(i)],'rx-')\n",
    "for i in [4,34]:\n",
    "    plt.plot([i,i],[0,fun(i)],'gx-')"
   ]
  },
  {
   "cell_type": "code",
   "execution_count": 18,
   "metadata": {
    "collapsed": false
   },
   "outputs": [],
   "source": [
    "import matplotlib.pyplot as plt\n",
    "import numpy as np\n",
    "plt.xlabel('Time(t)')\n",
    "plt.ylabel('Value')\n",
    "plt.title('Two not-so-correlated variables')\n",
    "t = np.arange(0.0, 100.0, 2)\n",
    "fun = lambda x:0.8*np.sin(x)\n",
    "a = [fun(p) for p in t]\n",
    "b = [1 for p in t]\n",
    "plt.ylim(-2,2)\n",
    "plt.plot(t,a,label = \"A(t)\", color = \"r\")\n",
    "plt.plot(t,b,label = \"B(t)\", color = \"g\")\n",
    "plt.legend()\n",
    "plt.show()\n"
   ]
  },
  {
   "cell_type": "code",
   "execution_count": 22,
   "metadata": {
    "collapsed": false
   },
   "outputs": [],
   "source": [
    "import matplotlib.pyplot as plt\n",
    "import numpy as np\n",
    "plt.xlabel('Time(t)')\n",
    "plt.ylabel('Value')\n",
    "plt.title('Two correlated variables')\n",
    "t = np.arange(0.0, 100.0, 2)\n",
    "fun = lambda x:0.8*np.sin(x)\n",
    "a = [fun(p)+0.3*np.random.rand() for p in t]\n",
    "b = [2*fun(p) for p in t]\n",
    "plt.ylim(-2,2)\n",
    "plt.plot(t,a,label = \"A(t)\", color = \"r\")\n",
    "plt.plot(t,b,label = \"B(t)\", color = \"g\")\n",
    "plt.legend()\n",
    "plt.show()"
   ]
  },
  {
   "cell_type": "code",
   "execution_count": null,
   "metadata": {
    "collapsed": true
   },
   "outputs": [],
   "source": []
  }
 ],
 "metadata": {
  "kernelspec": {
   "display_name": "Python [Root]",
   "language": "python",
   "name": "Python [Root]"
  },
  "language_info": {
   "codemirror_mode": {
    "name": "ipython",
    "version": 3
   },
   "file_extension": ".py",
   "mimetype": "text/x-python",
   "name": "python",
   "nbconvert_exporter": "python",
   "pygments_lexer": "ipython3",
   "version": "3.5.2"
  }
 },
 "nbformat": 4,
 "nbformat_minor": 0
}
